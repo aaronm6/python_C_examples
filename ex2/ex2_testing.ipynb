{
 "cells": [
  {
   "cell_type": "markdown",
   "id": "37cad6d7",
   "metadata": {},
   "source": [
    "# Example 2: Basic Functions\n",
    "This notebook will use the basic functions defined in `ex2_basic_funcs.c`\n",
    "\n",
    "---"
   ]
  },
  {
   "cell_type": "code",
   "execution_count": 1,
   "id": "c85c1f3d",
   "metadata": {},
   "outputs": [
    {
     "name": "stdout",
     "output_type": "stream",
     "text": [
      "Help on module ex2_basic_funcs:\n",
      "\n",
      "NAME\n",
      "    ex2_basic_funcs - Methods that do some basic functions.\n",
      "\n",
      "FUNCTIONS\n",
      "    accept_1_int_v1(...)\n",
      "        Accepts a python int and prints. No output.\n",
      "    \n",
      "    accept_1_int_v2(...)\n",
      "        Accepts a python int and prints. No output.\n",
      "    \n",
      "    add_two_floats(...)\n",
      "        Add the two numbers that are [python] floats\n",
      "    \n",
      "    check_type(...)\n",
      "        Check one input is either float, int, or string\n",
      "    \n",
      "    compare_string(...)\n",
      "        Check if given string is 'default'.\n",
      "    \n",
      "    return_long(...)\n",
      "        Returns a C long, which is a python int. No input.\n",
      "\n",
      "FILE\n",
      "    ~/python_C_examples/ex2/ex2_basic_funcs.so\n",
      "\n",
      "\n"
     ]
    }
   ],
   "source": [
    "import ex2_basic_funcs as ex\n",
    "help(ex)"
   ]
  },
  {
   "cell_type": "markdown",
   "id": "1df59f81",
   "metadata": {},
   "source": [
    "---\n",
    "### Return a value\n",
    "The function `return_long` does just that.  A C `long` is a Python `int`.  This function is hardcoded to return the number 262144."
   ]
  },
  {
   "cell_type": "code",
   "execution_count": 2,
   "id": "e685495e",
   "metadata": {},
   "outputs": [
    {
     "name": "stdout",
     "output_type": "stream",
     "text": [
      "262144\n",
      "<class 'int'>\n"
     ]
    }
   ],
   "source": [
    "n = ex.return_long()\n",
    "print(n)\n",
    "print(type(n))"
   ]
  },
  {
   "cell_type": "markdown",
   "id": "fa9719e6",
   "metadata": {},
   "source": [
    "---\n",
    "### Accepting 1 input:\n",
    "We demonstrate two functions that take one input (a python int) and unpack that in slightly differently:"
   ]
  },
  {
   "cell_type": "code",
   "execution_count": 3,
   "id": "ff81c725",
   "metadata": {},
   "outputs": [
    {
     "name": "stdout",
     "output_type": "stream",
     "text": [
      "Input given is: 27\n"
     ]
    }
   ],
   "source": [
    "n = 27\n",
    "ex.accept_1_int_v1(n)"
   ]
  },
  {
   "cell_type": "code",
   "execution_count": 4,
   "id": "03c1ad08",
   "metadata": {},
   "outputs": [
    {
     "name": "stdout",
     "output_type": "stream",
     "text": [
      "Input given is: 27\n"
     ]
    }
   ],
   "source": [
    "ex.accept_1_int_v2(n)"
   ]
  },
  {
   "cell_type": "markdown",
   "id": "c44dbf64",
   "metadata": {},
   "source": [
    "---\n",
    "### Checking the type of input given:\n",
    "We define four variables and then use `check_type` to do just that:"
   ]
  },
  {
   "cell_type": "code",
   "execution_count": 5,
   "id": "941c474c",
   "metadata": {},
   "outputs": [
    {
     "name": "stdout",
     "output_type": "stream",
     "text": [
      "Input is 31, of type PyLong\n",
      "Object's type name is: 'int'\n",
      "--\n",
      "Input is 3.141592, of type PyFloat\n",
      "Object's type name is: 'float'\n",
      "--\n",
      "Input is 'hello notebook', of type PyUnicode (i.e. string)\n",
      "Object's type name is: 'str'\n",
      "--\n",
      "Input is of type PyTuple\n",
      "Object's type name is: 'tuple'\n",
      "--\n",
      "Input is of some other type\n",
      "Object's type name is: 'bool'\n",
      "--\n"
     ]
    }
   ],
   "source": [
    "a = 31 # an int (long in C)\n",
    "b = 3.141592 # a float (double in C)\n",
    "c = \"hello notebook\"\n",
    "d = (1,2,3)\n",
    "e = True\n",
    "ex.check_type(a)\n",
    "ex.check_type(b)\n",
    "ex.check_type(c)\n",
    "ex.check_type(d)\n",
    "ex.check_type(e)"
   ]
  },
  {
   "cell_type": "markdown",
   "id": "a8bf2c91",
   "metadata": {},
   "source": [
    "---\n",
    "### Comparing a string to \"default\"\n",
    "Use the Python C api functions to compare an input string to the string \"default\""
   ]
  },
  {
   "cell_type": "code",
   "execution_count": 6,
   "id": "f4092aaa",
   "metadata": {},
   "outputs": [
    {
     "name": "stdout",
     "output_type": "stream",
     "text": [
      "Input 'something random' IS NOT the same as 'default'\n",
      "Input 'default' IS the same as 'default'\n",
      "Input 'Default' IS NOT the same as 'default'\n"
     ]
    }
   ],
   "source": [
    "string1 = \"something random\"\n",
    "string2 = \"default\"\n",
    "string3 = \"Default\" # 'PyUnicode_CompareWithASCIIString is case sensitive'\n",
    "ex.compare_string(string1)\n",
    "ex.compare_string(string2)\n",
    "ex.compare_string(string3)"
   ]
  },
  {
   "cell_type": "markdown",
   "id": "750944c4",
   "metadata": {},
   "source": [
    "---\n",
    "### Add two floating-point numbers"
   ]
  },
  {
   "cell_type": "code",
   "execution_count": 7,
   "id": "6e38a44a",
   "metadata": {},
   "outputs": [],
   "source": [
    "# Define three variables\n",
    "a = 3.14\n",
    "b = 2.72\n",
    "c = 5"
   ]
  },
  {
   "cell_type": "code",
   "execution_count": 8,
   "id": "8d62cbd8",
   "metadata": {},
   "outputs": [
    {
     "name": "stdout",
     "output_type": "stream",
     "text": [
      "5.86\n",
      "<class 'float'>\n"
     ]
    }
   ],
   "source": [
    "# add two floats\n",
    "d = ex.add_two_floats(a, b)\n",
    "print(d)\n",
    "print(type(d))"
   ]
  },
  {
   "cell_type": "code",
   "execution_count": 9,
   "id": "38595b12",
   "metadata": {},
   "outputs": [
    {
     "name": "stdout",
     "output_type": "stream",
     "text": [
      "8.14\n",
      "<class 'float'>\n"
     ]
    }
   ],
   "source": [
    "# try to add a float to an int\n",
    "# PyArg_ParseTuple will convert the integer c into a double\n",
    "d = ex.add_two_floats(a, c)\n",
    "print(d)\n",
    "print(type(d))"
   ]
  }
 ],
 "metadata": {
  "kernelspec": {
   "display_name": "Python 3 (ipykernel)",
   "language": "python",
   "name": "python3"
  },
  "language_info": {
   "codemirror_mode": {
    "name": "ipython",
    "version": 3
   },
   "file_extension": ".py",
   "mimetype": "text/x-python",
   "name": "python",
   "nbconvert_exporter": "python",
   "pygments_lexer": "ipython3",
   "version": "3.10.13"
  }
 },
 "nbformat": 4,
 "nbformat_minor": 5
}
