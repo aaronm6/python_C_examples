{
 "cells": [
  {
   "cell_type": "markdown",
   "id": "889271d8",
   "metadata": {},
   "source": [
    "# Example 1: Hello World\n",
    "This notebook will import and execute the two functions in `ex1_hello_world.so`\n",
    "\n",
    "---"
   ]
  },
  {
   "cell_type": "code",
   "execution_count": 2,
   "id": "6826452c",
   "metadata": {},
   "outputs": [],
   "source": [
    "import ex1_hello_world as ex"
   ]
  },
  {
   "cell_type": "markdown",
   "id": "89bac802",
   "metadata": {},
   "source": [
    "### The help documentation defined in ex1_hello_world.c can be accessed in the usual way:"
   ]
  },
  {
   "cell_type": "code",
   "execution_count": 3,
   "id": "3e128a3c",
   "metadata": {},
   "outputs": [
    {
     "name": "stdout",
     "output_type": "stream",
     "text": [
      "Help on module ex1_hello_world:\n",
      "\n",
      "NAME\n",
      "    ex1_hello_world - Provide two functions that print hello world.\n",
      "\n",
      "FUNCTIONS\n",
      "    helloworld(...)\n",
      "        No inputs/outputs, just print hello world\n",
      "    \n",
      "    helloworld_jupyter(...)\n",
      "        hello world that works in a Jupyter notebook\n",
      "\n",
      "FILE\n",
      "    /Users/me/Dropbox/me/py_code/extension_mod_c_code/repo/ex1/ex1_hello_world.so\n",
      "\n",
      "\n"
     ]
    }
   ],
   "source": [
    "help(ex)"
   ]
  },
  {
   "cell_type": "markdown",
   "id": "8b582b3a",
   "metadata": {},
   "source": [
    "### The function 'helloworld' will produce output if run in a terminal:\n",
    "```python\n",
    ">>> ex.helloworld()\n",
    "Hello World!\n",
    ">>>\n",
    "```\n",
    "### But but will not produce anything when run in a Jupyter notebook:"
   ]
  },
  {
   "cell_type": "code",
   "execution_count": 4,
   "id": "e154ae1c",
   "metadata": {},
   "outputs": [],
   "source": [
    "ex.helloworld()"
   ]
  },
  {
   "cell_type": "markdown",
   "id": "6111a0c3",
   "metadata": {},
   "source": [
    "### Instead, the module includes a variant function that produces output here: `helloworld_jupyter()`"
   ]
  },
  {
   "cell_type": "code",
   "execution_count": 5,
   "id": "247bf72c",
   "metadata": {},
   "outputs": [
    {
     "name": "stdout",
     "output_type": "stream",
     "text": [
      "Hello World!\n"
     ]
    }
   ],
   "source": [
    "ex.helloworld_jupyter()"
   ]
  },
  {
   "cell_type": "code",
   "execution_count": null,
   "id": "48760e0d",
   "metadata": {},
   "outputs": [],
   "source": []
  }
 ],
 "metadata": {
  "kernelspec": {
   "display_name": "Python 3 (ipykernel)",
   "language": "python",
   "name": "python3"
  },
  "language_info": {
   "codemirror_mode": {
    "name": "ipython",
    "version": 3
   },
   "file_extension": ".py",
   "mimetype": "text/x-python",
   "name": "python",
   "nbconvert_exporter": "python",
   "pygments_lexer": "ipython3",
   "version": "3.10.13"
  }
 },
 "nbformat": 4,
 "nbformat_minor": 5
}
