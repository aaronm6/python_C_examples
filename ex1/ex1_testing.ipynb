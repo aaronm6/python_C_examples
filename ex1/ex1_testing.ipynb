{
 "cells": [
  {
   "cell_type": "markdown",
   "id": "889271d8",
   "metadata": {},
   "source": [
    "# Example 1: Hello World\n",
    "This notebook will import and execute the single function in `ex1_hello_world.so`\n",
    "\n",
    "---"
   ]
  },
  {
   "cell_type": "code",
   "execution_count": 1,
   "id": "6826452c",
   "metadata": {},
   "outputs": [],
   "source": [
    "import ex1_hello_world as ex"
   ]
  },
  {
   "cell_type": "markdown",
   "id": "89bac802",
   "metadata": {},
   "source": [
    "---\n",
    "The help documentation defined in `ex1_hello_world.c` can be accessed in the usual way:"
   ]
  },
  {
   "cell_type": "code",
   "execution_count": 2,
   "id": "3e128a3c",
   "metadata": {},
   "outputs": [
    {
     "name": "stdout",
     "output_type": "stream",
     "text": [
      "Help on module ex1_hello_world:\n",
      "\n",
      "NAME\n",
      "    ex1_hello_world - Provide a function that prints hello world.\n",
      "\n",
      "FUNCTIONS\n",
      "    helloworld(...)\n",
      "        No inputs/outputs, just print hello world\n",
      "\n",
      "FILE\n",
      "    ~/python_C_examples/ex1/ex1_hello_world.so\n",
      "\n",
      "\n"
     ]
    }
   ],
   "source": [
    "help(ex)"
   ]
  },
  {
   "cell_type": "markdown",
   "id": "8b582b3a",
   "metadata": {},
   "source": [
    "---\n",
    "The function '`helloworld`' is bound to the compiled C function\n",
    "<code>C\n",
    "static PyObject *meth_helloworld(PyObject *self, PyObject *Py_UNUSED(b))\n",
    "</code>\n",
    "Note that it will print a message here in the Jupyter notebook and also in the terminal window that is running the notebook server."
   ]
  },
  {
   "cell_type": "code",
   "execution_count": 3,
   "id": "e154ae1c",
   "metadata": {
    "scrolled": true
   },
   "outputs": [
    {
     "name": "stdout",
     "output_type": "stream",
     "text": [
      "Hello World!\n"
     ]
    }
   ],
   "source": [
    "ex.helloworld()"
   ]
  }
 ],
 "metadata": {
  "kernelspec": {
   "display_name": "Python 3 (ipykernel)",
   "language": "python",
   "name": "python3"
  },
  "language_info": {
   "codemirror_mode": {
    "name": "ipython",
    "version": 3
   },
   "file_extension": ".py",
   "mimetype": "text/x-python",
   "name": "python",
   "nbconvert_exporter": "python",
   "pygments_lexer": "ipython3",
   "version": "3.10.13"
  }
 },
 "nbformat": 4,
 "nbformat_minor": 5
}
