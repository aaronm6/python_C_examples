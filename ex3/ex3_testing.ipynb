{
 "cells": [
  {
   "cell_type": "markdown",
   "id": "ed4beb5b",
   "metadata": {},
   "source": [
    "# Example 3: Lists and Tuples\n",
    "This notebook will use the functions defined in `ex3_lists.c`"
   ]
  },
  {
   "cell_type": "code",
   "execution_count": 1,
   "id": "a9f1794a",
   "metadata": {},
   "outputs": [
    {
     "name": "stdout",
     "output_type": "stream",
     "text": [
      "Help on module ex3_lists:\n",
      "\n",
      "NAME\n",
      "    ex3_lists - Pass and create python lists\n",
      "\n",
      "FUNCTIONS\n",
      "    create_list()\n",
      "        Create the following list and return it: [1, 2, 'three']\n",
      "    \n",
      "    create_tuple()\n",
      "        Create the following tuple and return it: (1, 2, 'three')\n",
      "    \n",
      "    describe_args(*args)\n",
      "        Accept a variable number of positional arguments and describe that tuple.\n",
      "    \n",
      "    list_sum(x)\n",
      "        Given a list, x, of exclusively python ints (C longs), calculate the sum\n",
      "        of the elements and return as a python int.\n",
      "        Internally, the code converts the elements from python objects to\n",
      "        type C long, performs the sum on the C objects, and converts the sum\n",
      "        to a python int object.\n",
      "    \n",
      "    list_sum_nc(x)\n",
      "        Same as lsum(x), but internally the math is done with the python objects directly.\n",
      "        '_nc' stands for 'no conversion' i.e. conversion to C objects.\n",
      "    \n",
      "    list_x2(x)\n",
      "        Given a list, x, of elements that are python ints this returns another list\n",
      "        in which each element of the returned list is double its counterpart element\n",
      "        in x.  Elements of the input list must all be python ints (C longs)\n",
      "    \n",
      "    list_x2_nc(x)\n",
      "        Same as ldouble(x), but internally the math is done with python objects directly.\n",
      "        '_nc' stands for 'no conversion' i.e. conversion to C objects.\n",
      "\n",
      "FILE\n",
      "    ~/python_C_examples/ex3/ex3_lists.so\n",
      "\n",
      "\n"
     ]
    }
   ],
   "source": [
    "import ex3_lists as ex\n",
    "help(ex)"
   ]
  },
  {
   "cell_type": "markdown",
   "id": "1d30f650",
   "metadata": {},
   "source": [
    "---\n",
    "### Create a list"
   ]
  },
  {
   "cell_type": "code",
   "execution_count": 2,
   "id": "c5e60434",
   "metadata": {},
   "outputs": [
    {
     "data": {
      "text/plain": [
       "[1, 2, 'three']"
      ]
     },
     "execution_count": 2,
     "metadata": {},
     "output_type": "execute_result"
    }
   ],
   "source": [
    "ex.create_list()"
   ]
  },
  {
   "cell_type": "markdown",
   "id": "f86333a3",
   "metadata": {},
   "source": [
    "---\n",
    "### Create a tuple"
   ]
  },
  {
   "cell_type": "code",
   "execution_count": 3,
   "id": "9db7bc60",
   "metadata": {},
   "outputs": [
    {
     "data": {
      "text/plain": [
       "(1, 2, 'three')"
      ]
     },
     "execution_count": 3,
     "metadata": {},
     "output_type": "execute_result"
    }
   ],
   "source": [
    "ex.create_tuple()"
   ]
  },
  {
   "cell_type": "markdown",
   "id": "fb44a924",
   "metadata": {},
   "source": [
    "---\n",
    "### Describe inputs\n",
    "The input `args` in the C method definition is a Python tuple.  As in\n",
    "`static PyObject *method_describe_args(PyObject *self, PyObject *args)`\n",
    "As tuples are Python objects, they can have variable length.  This function will describe the `args` tuple."
   ]
  },
  {
   "cell_type": "code",
   "execution_count": 4,
   "id": "ec5493f0",
   "metadata": {},
   "outputs": [
    {
     "name": "stdout",
     "output_type": "stream",
     "text": [
      "'args's type name is: 'tuple'\n",
      "3 positional arguments were given.\n"
     ]
    }
   ],
   "source": [
    "ex.describe_args(1,2,3)"
   ]
  },
  {
   "cell_type": "markdown",
   "id": "690a0c3c",
   "metadata": {},
   "source": [
    "---\n",
    "### Sum elements in a list\n",
    "Here we give a function a list of ints and it returns the sum.  There are two versions of this function: `list_sum` and `list_sum_nc`. The difference between the two is that in `list_sum`, each element of the list is extracted from the list, converted into a C object, the math operation is performed on the C objects, and the final sum is then coverted back into a Python object and returned.  On the other hand, `list_sum_nc` never converts the list elements into C objects; instead the math is performed directly on the Python objects using the `PyNumber_Add` library function.  Counterintuitively, `list_sum` runs faster."
   ]
  },
  {
   "cell_type": "code",
   "execution_count": 5,
   "id": "e2611028",
   "metadata": {},
   "outputs": [],
   "source": [
    "from time import perf_counter # perf_counter is for timing the performance of code\n",
    "a = list(range(100000))"
   ]
  },
  {
   "cell_type": "code",
   "execution_count": 6,
   "id": "6742957d",
   "metadata": {},
   "outputs": [
    {
     "name": "stdout",
     "output_type": "stream",
     "text": [
      "Sum of the elements in the list: 4999950000\n",
      "Summing operation took 1.225055e-03 s\n"
     ]
    }
   ],
   "source": [
    "t_start = perf_counter()\n",
    "a_sum = ex.list_sum(a)\n",
    "t_stop = perf_counter()\n",
    "print(f\"Sum of the elements in the list: {a_sum}\")\n",
    "print(f\"Summing operation took {t_stop-t_start:e} s\")"
   ]
  },
  {
   "cell_type": "code",
   "execution_count": 7,
   "id": "556d3026",
   "metadata": {},
   "outputs": [
    {
     "name": "stdout",
     "output_type": "stream",
     "text": [
      "Sum of the elements in the list: 4999950000\n",
      "Summing operation took 5.955087e-03 s, without C conversion\n"
     ]
    }
   ],
   "source": [
    "t_start = perf_counter()\n",
    "a_sum_nc = ex.list_sum_nc(a)\n",
    "t_stop = perf_counter()\n",
    "print(f\"Sum of the elements in the list: {a_sum_nc}\")\n",
    "print(f\"Summing operation took {t_stop-t_start:e} s, without C conversion\")"
   ]
  },
  {
   "cell_type": "markdown",
   "id": "a1cadb8a",
   "metadata": {},
   "source": [
    "---\n",
    "### Doubling elements in a list\n",
    "Here we give a function a list of ints and it returns another list where every element is double that of the given list.  As with the list-summing above, here we have two versions of the function: `list_x2` operates by extracting elements from the list, converting them to C objects and doing the math in C; `list_x2_nc` does no conversion to C objects, and does the math on the Python objects using the `PyNumber_Multiply` function.  In this case, the performance of both functions is more even."
   ]
  },
  {
   "cell_type": "code",
   "execution_count": 8,
   "id": "86c7fddb",
   "metadata": {},
   "outputs": [
    {
     "name": "stdout",
     "output_type": "stream",
     "text": [
      "Doubling operation took 6.375222e-03 s\n"
     ]
    }
   ],
   "source": [
    "t_start = perf_counter()\n",
    "a_x2 = ex.list_x2(a)\n",
    "t_stop = perf_counter()\n",
    "print(f\"Doubling operation took {t_stop-t_start:e} s\")"
   ]
  },
  {
   "cell_type": "code",
   "execution_count": 9,
   "id": "159d1ffa",
   "metadata": {},
   "outputs": [
    {
     "name": "stdout",
     "output_type": "stream",
     "text": [
      "Doubling operation took 6.283657e-03 s, without C conversion\n"
     ]
    }
   ],
   "source": [
    "t_start = perf_counter()\n",
    "a_x2_nc = ex.list_x2_nc(a)\n",
    "t_stop = perf_counter()\n",
    "print(f\"Doubling operation took {t_stop-t_start:e} s, without C conversion\")"
   ]
  }
 ],
 "metadata": {
  "kernelspec": {
   "display_name": "Python 3 (ipykernel)",
   "language": "python",
   "name": "python3"
  },
  "language_info": {
   "codemirror_mode": {
    "name": "ipython",
    "version": 3
   },
   "file_extension": ".py",
   "mimetype": "text/x-python",
   "name": "python",
   "nbconvert_exporter": "python",
   "pygments_lexer": "ipython3",
   "version": "3.10.13"
  }
 },
 "nbformat": 4,
 "nbformat_minor": 5
}
