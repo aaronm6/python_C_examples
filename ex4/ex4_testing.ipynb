{
 "cells": [
  {
   "cell_type": "markdown",
   "id": "1edc08ce",
   "metadata": {},
   "source": [
    "# Example 4: Numpy Arrays (ndarrays)\n",
    "This module gives examples on how to accept, handle, and create Numpy arrays."
   ]
  },
  {
   "cell_type": "code",
   "execution_count": 1,
   "id": "80af1743",
   "metadata": {},
   "outputs": [
    {
     "name": "stdout",
     "output_type": "stream",
     "text": [
      "Help on module ex4_ndarrays:\n",
      "\n",
      "NAME\n",
      "    ex4_ndarrays - Pass a numpy ndarray to some functions, and/or create a numpy array with some functions.\n",
      "\n",
      "FUNCTIONS\n",
      "    accept_array(x)\n",
      "        Accept a numpy array as an input and do nothing (besides print\n",
      "        on success).  This simply tests if the right #include worked and\n",
      "        the 'import_array()' line is in the PyMODINIT_FUNC definition.\n",
      "    \n",
      "    accept_array_wrong(x)\n",
      "        Same as the function 'accept_array', but this one does not handle\n",
      "        the reference counting correctly.\n",
      "    \n",
      "    add_scalar_to_array(x, n)\n",
      "        x is a numpy array of dtype numpy.float64 / python float\n",
      "        n is a python scalar of dtype float.\n",
      "        Return x+n\n",
      "    \n",
      "    add_two_arrays(x, y)\n",
      "        Input two numpy arrays, (x and y) of dtype float.\n",
      "        Return a new array that is the element-wise sum of the two.\n",
      "    \n",
      "    copy_1d_int8_array_get(a)\n",
      "        Provide an array of type int8 and return a copy of that\n",
      "        array.  This is also a 'right' way to do it, and uses\n",
      "        Numpy's 'PyArray_GETPTR1' function for accessing the data.\n",
      "        The functionality on the python side should be exactly the\n",
      "        same as for 'copy_1d_int8_array_right'.\n",
      "    \n",
      "    copy_1d_int8_array_right(a)\n",
      "        Provide an array of type int8 and return a copy of that\n",
      "        array.  This is the 'right' way to do it because it will\n",
      "        properly handle the array 'strides', which is important\n",
      "        if the input array is a slice of another array.\n",
      "        To create an int8 array, one can use 'astype', for example:\n",
      "        >>> a = np.array([1,2,3,4,5]).astype(np.int8)\n",
      "    \n",
      "    copy_1d_int8_array_wrong(a)\n",
      "        Provide an array of type int8 and return a copy of that\n",
      "        array.  This is the 'wrong' way to do it because it will barf if\n",
      "        the input array is a slice of another array.\n",
      "        To create an int8 array, one can use 'astype', for example:\n",
      "        >>> a = np.array([1,2,3,4,5]).astype(np.int8)\n",
      "    \n",
      "    copy_2d_float_array_get(...)\n",
      "        copy 2d get\n",
      "    \n",
      "    copy_2d_float_array_get2(...)\n",
      "        copy 2d get2\n",
      "    \n",
      "    copy_2d_float_array_right(...)\n",
      "        copy 2d right\n",
      "    \n",
      "    copy_2d_float_array_wrong(...)\n",
      "        copy 2d wrong\n",
      "    \n",
      "    create_bool_array()\n",
      "        No input.  Create numpy array of python type bool.  This is a separate\n",
      "        function from 'create_float_array' because C has no boolean data type,\n",
      "        so one has to use the typdef from the numpy API.\n",
      "    \n",
      "    create_float_array()\n",
      "        No input.  Create a numpy array of dtype double (i.e. numpy type float64\n",
      "        (on most platforms) and return it.\n",
      "    \n",
      "    create_float_array2(...)\n",
      "        create_float_array()\n",
      "        --\n",
      "        \n",
      "        No input.  Create a numpy array of dtype double (i.e. numpy type float64\n",
      "        (on most platforms) and return it.\n",
      "    \n",
      "    create_square_array(n)\n",
      "        Create a square array of python int (numpy int64) type.  The input, n,\n",
      "        which defines the size; i.e. a n-x-n square array is produced.\n",
      "    \n",
      "    create_tuple_of_arrays()\n",
      "        No inputs.  Creates two numpy arrays and fills them into a python tuple.\n",
      "        Returns the tuple.\n",
      "    \n",
      "    describe_array(arr)\n",
      "        Input a numpy array and describe its properties like size and strides.\n",
      "    \n",
      "    get_dtype(x)\n",
      "        Input a numpy array and the function prints the corresponding data type.\n",
      "        No output.\n",
      "    \n",
      "    input_list_of_arrays(L)\n",
      "        Give a python list (L) whose elements are numpy arrays.  This function\n",
      "        unpacks the list and prints the size of each array. Returns nothing.\n",
      "    \n",
      "    multiply_array_by_scalar(x, n)\n",
      "        x is a numpy array of dtype numpy.float64 / python float\n",
      "        n is a python scalar of dtype float.\n",
      "        Return x*n\n",
      "    \n",
      "    print_dtypes()\n",
      "        Numpy has a code system for describing the data type of elements\n",
      "        in an array.  Each data type has an integer that represents it.\n",
      "        The numpy API has a list of variables that handle this, so the user\n",
      "        never has to write the integers directly (like 'NPY_DOUBLE'). This\n",
      "        function takes no input, gives no output, and gives a list of data\n",
      "        types, their\n",
      "\n",
      "FILE\n",
      "    /Users/me/Dropbox/me/py_code/extension_mod_c_code/repo/ex4/ex4_ndarrays.so\n",
      "\n",
      "\n"
     ]
    }
   ],
   "source": [
    "import sys, numpy as np\n",
    "import ex4_ndarrays as ex\n",
    "help(ex)"
   ]
  },
  {
   "cell_type": "markdown",
   "id": "8e128c0c",
   "metadata": {},
   "source": [
    "---\n",
    "### Pass an ndarray to a function\n",
    "The functions `accept_array` and `accept_array_wrong` simply demonstrate how to successfully write a module that will accept a Numpy array as input.  The only difference between the two is in the reference counting: `accept_array_wrong` will lead to a memory leak."
   ]
  },
  {
   "cell_type": "code",
   "execution_count": 2,
   "id": "96f0848d",
   "metadata": {},
   "outputs": [
    {
     "data": {
      "text/plain": [
       "array([0.59425711, 0.93295992, 0.62418784, 0.49408697, 0.02893419,\n",
       "       0.56268605, 0.47362242, 0.59279444, 0.52098547, 0.08787759])"
      ]
     },
     "execution_count": 2,
     "metadata": {},
     "output_type": "execute_result"
    }
   ],
   "source": [
    "a = np.random.rand(10)\n",
    "a"
   ]
  },
  {
   "cell_type": "markdown",
   "id": "54c02cf0",
   "metadata": {},
   "source": [
    "We can use `sys.getrefcount` to see how many references there are to a given object."
   ]
  },
  {
   "cell_type": "code",
   "execution_count": 4,
   "id": "18fc031d",
   "metadata": {},
   "outputs": [
    {
     "data": {
      "text/plain": [
       "8"
      ]
     },
     "execution_count": 4,
     "metadata": {},
     "output_type": "execute_result"
    }
   ],
   "source": [
    "sys.getrefcount(a) # run this cell twice for some reason"
   ]
  },
  {
   "cell_type": "code",
   "execution_count": 5,
   "id": "93931527",
   "metadata": {},
   "outputs": [
    {
     "name": "stdout",
     "output_type": "stream",
     "text": [
      "Successful passing (and releasing) of an ndarray to function!\n"
     ]
    }
   ],
   "source": [
    "ex.accept_array(a)"
   ]
  },
  {
   "cell_type": "code",
   "execution_count": 6,
   "id": "8f58c04d",
   "metadata": {},
   "outputs": [
    {
     "data": {
      "text/plain": [
       "8"
      ]
     },
     "execution_count": 6,
     "metadata": {},
     "output_type": "execute_result"
    }
   ],
   "source": [
    "sys.getrefcount(a)"
   ]
  },
  {
   "cell_type": "markdown",
   "id": "19343a34",
   "metadata": {},
   "source": [
    "Note that the reference count before and after passing the array to `accept_array` is the same."
   ]
  },
  {
   "cell_type": "code",
   "execution_count": 7,
   "id": "c37d7720",
   "metadata": {},
   "outputs": [
    {
     "name": "stdout",
     "output_type": "stream",
     "text": [
      "Successful passing (but not releasing) of an ndarray to function!\n"
     ]
    }
   ],
   "source": [
    "ex.accept_array_wrong(a)"
   ]
  },
  {
   "cell_type": "code",
   "execution_count": 10,
   "id": "5ce63446",
   "metadata": {},
   "outputs": [
    {
     "data": {
      "text/plain": [
       "10"
      ]
     },
     "execution_count": 10,
     "metadata": {},
     "output_type": "execute_result"
    }
   ],
   "source": [
    "sys.getrefcount(a)"
   ]
  },
  {
   "cell_type": "code",
   "execution_count": 9,
   "id": "6cc3e85c",
   "metadata": {},
   "outputs": [
    {
     "name": "stdout",
     "output_type": "stream",
     "text": [
      "Successful passing (but not releasing) of an ndarray to function!\n",
      "Successful passing (but not releasing) of an ndarray to function!\n",
      "Successful passing (but not releasing) of an ndarray to function!\n",
      "Successful passing (but not releasing) of an ndarray to function!\n"
     ]
    }
   ],
   "source": [
    "ex.accept_array_wrong(a)\n",
    "ex.accept_array_wrong(a)\n",
    "ex.accept_array_wrong(a)\n",
    "ex.accept_array_wrong(a)"
   ]
  },
  {
   "cell_type": "code",
   "execution_count": 11,
   "id": "268d730b",
   "metadata": {},
   "outputs": [
    {
     "data": {
      "text/plain": [
       "10"
      ]
     },
     "execution_count": 11,
     "metadata": {},
     "output_type": "execute_result"
    }
   ],
   "source": [
    "sys.getrefcount(a)"
   ]
  },
  {
   "cell_type": "markdown",
   "id": "b559b2a3",
   "metadata": {},
   "source": [
    "Note that the reference count of the array has increased.  Because of this, `a` will never be freed by the garbage collector, even when it's not being used anymore.  Another important thing to note is that the reported refcount in Jupyter or IPython may be screwed up compared to running it in an actual Python executable.  The point to emphasize is simply that the refcount increases because `accept_array_wrong` neglects to decrement the refcount when it is finished."
   ]
  },
  {
   "cell_type": "markdown",
   "id": "f93c8e51",
   "metadata": {},
   "source": [
    "---\n",
    "### ndarray data types\n",
    "The C api keeps track of the data type of elements in an ndarray with an enum.  One need never worry about the actual number, and instead refer to the enum name.  For example, if one wanted to create an array with dtype np.int16, one would simply write \"`NPY_INT16`\" instead of \"`3`\".  But below, one can see that multiple names point to the same number and are therefore equivalent data types (`NPY_DOUBLE` and `NPY_FLOAT64` are identical, for example)."
   ]
  },
  {
   "cell_type": "code",
   "execution_count": 12,
   "id": "cd4459d0",
   "metadata": {},
   "outputs": [
    {
     "name": "stdout",
     "output_type": "stream",
     "text": [
      "NPY_NTYPES = 24\n",
      "NPY_BOOL = 0\n",
      "NPY_BYTE = 1\n",
      "NPY_INT8 = 1\n",
      "NPY_INT16 = 3\n",
      "NPY_SHORT = 3\n",
      "NPY_INT32 = 5\n",
      "NPY_INT64 = 7\n",
      "NPY_INT = 5\n",
      "NPY_INTP = 7\n",
      "NPY_LONG = 7\n",
      "NPY_LONGLONG = 9\n",
      "NPY_UBYTE = 2\n",
      "NPY_UINT8 = 2\n",
      "NPY_UINT16 = 4\n",
      "NPY_USHORT = 4\n",
      "NPY_UINT32 = 6\n",
      "NPY_UINT = 6\n",
      "NPY_UINT64 = 8\n",
      "NPY_UINTP = 8\n",
      "NPY_ULONG = 8\n",
      "NPY_ULONGLONG = 10\n",
      "NPY_FLOAT16 = 23\n",
      "NPY_HALF = 23\n",
      "NPY_FLOAT32 = 11\n",
      "NPY_FLOAT = 11\n",
      "NPY_FLOAT64 = 12\n",
      "NPY_DOUBLE = 12\n",
      "NPY_LONGDOUBLE = 13\n",
      "NPY_COMPLEX64 = 14\n",
      "NPY_CFLOAT = 14\n",
      "NPY_COMPLEX128 = 15\n",
      "NPY_CDOUBLE = 15\n",
      "NPY_CLONGDOUBLE = 16\n",
      "NPY_DATETIME = 21\n",
      "NPY_TIMEDELTA = 22\n",
      "NPY_STRING = 18\n",
      "NPY_UNICODE = 19\n",
      "NPY_OBJECT = 17\n",
      "NPY_VOID = 20\n",
      "NPY_DEFAULT_TYPE = 12\n"
     ]
    }
   ],
   "source": [
    "ex.print_dtypes()"
   ]
  },
  {
   "cell_type": "markdown",
   "id": "96710922",
   "metadata": {},
   "source": [
    "---\n",
    "### Getting the dtype of an ndarray\n",
    "This function demonstrates how to query an ndarray for its dtype."
   ]
  },
  {
   "cell_type": "code",
   "execution_count": 13,
   "id": "b6b02730",
   "metadata": {},
   "outputs": [],
   "source": [
    "a = np.zeros(5, dtype=np.int8)\n",
    "b = np.zeros(5, dtype=np.float64)\n",
    "c = np.zeros(5, dtype=bool)"
   ]
  },
  {
   "cell_type": "code",
   "execution_count": 14,
   "id": "714f9358",
   "metadata": {},
   "outputs": [
    {
     "name": "stdout",
     "output_type": "stream",
     "text": [
      "type integer is 1\n",
      "NPY_BYTE\n",
      "NPY_INT8\n"
     ]
    }
   ],
   "source": [
    "ex.get_dtype(a)"
   ]
  },
  {
   "cell_type": "code",
   "execution_count": 15,
   "id": "d8525794",
   "metadata": {},
   "outputs": [
    {
     "name": "stdout",
     "output_type": "stream",
     "text": [
      "type integer is 12\n",
      "NPY_FLOAT64\n",
      "NPY_DOUBLE\n",
      "NPY_DEFAULT_TYPE\n"
     ]
    }
   ],
   "source": [
    "ex.get_dtype(b)"
   ]
  },
  {
   "cell_type": "code",
   "execution_count": 16,
   "id": "f5581b41",
   "metadata": {},
   "outputs": [
    {
     "name": "stdout",
     "output_type": "stream",
     "text": [
      "type integer is 0\n",
      "NPY_BOOL\n"
     ]
    }
   ],
   "source": [
    "ex.get_dtype(c)"
   ]
  },
  {
   "cell_type": "markdown",
   "id": "53b57d38",
   "metadata": {},
   "source": [
    "---\n",
    "### Describe an array\n",
    "Here we access some metadata of the array, and also desribe some modified arrays"
   ]
  },
  {
   "cell_type": "code",
   "execution_count": 17,
   "id": "b19231a8",
   "metadata": {},
   "outputs": [],
   "source": [
    "a = np.array([[1,2,3,4,5,6,7,8,9,10],\n",
    "              [11,12,13,14,15,16,17,18,19,20]], dtype=np.int8)"
   ]
  },
  {
   "cell_type": "code",
   "execution_count": 18,
   "id": "bd3e9d95",
   "metadata": {},
   "outputs": [
    {
     "name": "stdout",
     "output_type": "stream",
     "text": [
      "    dtype: NPY_BYTE\n",
      "    C-contiguous\n",
      "    Number of dimensions: 2\n",
      "    Shape = (2, 10)\n",
      "    Strides: (10, 1)\n",
      "    Data pointer:   0x7fb3aa05bdf0\n",
      "    Object pointer: 0x12e73a310\n"
     ]
    }
   ],
   "source": [
    "ex.describe_array(a)"
   ]
  },
  {
   "cell_type": "markdown",
   "id": "eda68e42",
   "metadata": {},
   "source": [
    "Note the data pointer of a.  If I slice the first row of the array, the object pointer is different, but the data pointer is the same.  This is because an array is really just a `struct` that tells the interpreter _how_ to look at the data, but the data itself exists separately, to which other arrays can also point.  The data pointer points to the first element in the array."
   ]
  },
  {
   "cell_type": "code",
   "execution_count": 19,
   "id": "b30971c9",
   "metadata": {},
   "outputs": [
    {
     "name": "stdout",
     "output_type": "stream",
     "text": [
      "    dtype: NPY_BYTE\n",
      "    C-contiguous\n",
      "    F-contiguous\n",
      "    Number of dimensions: 1\n",
      "    Shape = (10)\n",
      "    Strides: (1)\n",
      "    Data pointer:   0x7fb3aa05bdf0\n",
      "    Object pointer: 0x12e73a970\n"
     ]
    }
   ],
   "source": [
    "ex.describe_array(a[0,:])"
   ]
  },
  {
   "cell_type": "markdown",
   "id": "90aef29f",
   "metadata": {},
   "source": [
    "If I slice the first row of the array, but take every other element, again the new object points to the same first element, but now the strides are different."
   ]
  },
  {
   "cell_type": "code",
   "execution_count": 20,
   "id": "ea264c4d",
   "metadata": {},
   "outputs": [
    {
     "name": "stdout",
     "output_type": "stream",
     "text": [
      "    dtype: NPY_BYTE\n",
      "    Number of dimensions: 1\n",
      "    Shape = (5)\n",
      "    Strides: (2)\n",
      "    Data pointer:   0x7fb3aa05bdf0\n",
      "    Object pointer: 0x12e73a970\n"
     ]
    }
   ],
   "source": [
    "ex.describe_array(a[0,::2])"
   ]
  },
  {
   "cell_type": "markdown",
   "id": "9b4f565d",
   "metadata": {},
   "source": [
    "Taking the transpose creates a new object that also points to the same data.  However, it just says to read the data as F-contiguous instead of the original C-contiguous."
   ]
  },
  {
   "cell_type": "code",
   "execution_count": 21,
   "id": "91fe36a8",
   "metadata": {},
   "outputs": [
    {
     "name": "stdout",
     "output_type": "stream",
     "text": [
      "a:\n",
      "    dtype: NPY_BYTE\n",
      "    C-contiguous\n",
      "    Number of dimensions: 2\n",
      "    Shape = (2, 10)\n",
      "    Strides: (10, 1)\n",
      "    Data pointer:   0x7fb3aa05bdf0\n",
      "    Object pointer: 0x12e73a310\n",
      "\n",
      "-------------------------\n",
      "a.T\n",
      "    dtype: NPY_BYTE\n",
      "    F-contiguous\n",
      "    Number of dimensions: 2\n",
      "    Shape = (10, 2)\n",
      "    Strides: (1, 10)\n",
      "    Data pointer:   0x7fb3aa05bdf0\n",
      "    Object pointer: 0x12e73a970\n"
     ]
    }
   ],
   "source": [
    "print(\"a:\", flush=True)\n",
    "ex.describe_array(a)\n",
    "print(\"\", flush=True)\n",
    "print(\"-------------------------\")\n",
    "print(\"a.T\")\n",
    "ex.describe_array(a.T)"
   ]
  },
  {
   "cell_type": "code",
   "execution_count": null,
   "id": "4677fe27",
   "metadata": {},
   "outputs": [],
   "source": []
  }
 ],
 "metadata": {
  "kernelspec": {
   "display_name": "Python 3 (ipykernel)",
   "language": "python",
   "name": "python3"
  },
  "language_info": {
   "codemirror_mode": {
    "name": "ipython",
    "version": 3
   },
   "file_extension": ".py",
   "mimetype": "text/x-python",
   "name": "python",
   "nbconvert_exporter": "python",
   "pygments_lexer": "ipython3",
   "version": "3.10.13"
  }
 },
 "nbformat": 4,
 "nbformat_minor": 5
}
